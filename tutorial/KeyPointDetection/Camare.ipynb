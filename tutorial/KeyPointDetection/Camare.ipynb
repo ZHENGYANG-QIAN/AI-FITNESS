{
 "cells": [
  {
   "cell_type": "code",
   "execution_count": 17,
   "metadata": {},
   "outputs": [],
   "source": [
    "import cv2\n",
    "import mediapipe as mp"
   ]
  },
  {
   "cell_type": "code",
   "execution_count": 18,
   "metadata": {},
   "outputs": [],
   "source": [
    "mp_pose = mp.solutions.pose\n",
    "mp_drawing = mp.solutions.drawing_utils\n",
    "pose = mp_pose.Pose(static_image_mode=False,\n",
    "                    smooth_landmarks=True,\n",
    "                    min_detection_confidence=0.5,\n",
    "                    min_tracking_confidence=0.5)"
   ]
  },
  {
   "cell_type": "code",
   "execution_count": 19,
   "metadata": {},
   "outputs": [],
   "source": [
    "def process_frame(img):\n",
    "    img_RGB = cv2.cvtColor(img,cv2.COLOR_BGR2RGB)\n",
    "    results = pose.process(img_RGB)\n",
    "    mp_drawing.draw_landmarks(img,results.pose_landmarks,mp_pose.POSE_CONNECTIONS)\n",
    "    # 可以画3D图像\n",
    "    # mp_drawing.plot_landmarks(results.pose_world_landmarks,mp_pose.POSE_CONNECTIONS)\n",
    "    return img"
   ]
  },
  {
   "cell_type": "code",
   "execution_count": 20,
   "metadata": {},
   "outputs": [
    {
     "ename": "error",
     "evalue": "OpenCV(4.2.0) C:\\projects\\opencv-python\\opencv\\modules\\highgui\\src\\window.cpp:651: error: (-2:Unspecified error) The function is not implemented. Rebuild the library with Windows, GTK+ 2.x or Cocoa support. If you are on Ubuntu or Debian, install libgtk2.0-dev and pkg-config, then re-run cmake or configure script in function 'cvShowImage'\n",
     "output_type": "error",
     "traceback": [
      "\u001B[1;31m---------------------------------------------------------------------------\u001B[0m",
      "\u001B[1;31merror\u001B[0m                                     Traceback (most recent call last)",
      "Cell \u001B[1;32mIn[20], line 14\u001B[0m\n\u001B[0;32m     12\u001B[0m frame \u001B[38;5;241m=\u001B[39m process_frame(frame)\n\u001B[0;32m     13\u001B[0m frame \u001B[38;5;241m=\u001B[39m cv2\u001B[38;5;241m.\u001B[39mresize(frame, dsize\u001B[38;5;241m=\u001B[39m(\u001B[38;5;241m1000\u001B[39m, \u001B[38;5;241m600\u001B[39m), dst\u001B[38;5;241m=\u001B[39m\u001B[38;5;28;01mNone\u001B[39;00m, fx\u001B[38;5;241m=\u001B[39m\u001B[38;5;241m2\u001B[39m, fy\u001B[38;5;241m=\u001B[39m\u001B[38;5;241m2\u001B[39m, interpolation\u001B[38;5;241m=\u001B[39mcv2\u001B[38;5;241m.\u001B[39mINTER_NEAREST)\n\u001B[1;32m---> 14\u001B[0m \u001B[43mcv2\u001B[49m\u001B[38;5;241;43m.\u001B[39;49m\u001B[43mimshow\u001B[49m\u001B[43m(\u001B[49m\u001B[38;5;124;43m'\u001B[39;49m\u001B[38;5;124;43mmy_window\u001B[39;49m\u001B[38;5;124;43m'\u001B[39;49m\u001B[43m,\u001B[49m\u001B[43mframe\u001B[49m\u001B[43m)\u001B[49m\n\u001B[0;32m     16\u001B[0m  \u001B[38;5;66;03m# 按‘q’或‘esc’退出\u001B[39;00m\n\u001B[0;32m     17\u001B[0m \u001B[38;5;28;01mif\u001B[39;00m cv2\u001B[38;5;241m.\u001B[39mwaitKey(\u001B[38;5;241m1\u001B[39m) \u001B[38;5;129;01min\u001B[39;00m [\u001B[38;5;28mord\u001B[39m(\u001B[38;5;124m'\u001B[39m\u001B[38;5;124mq\u001B[39m\u001B[38;5;124m'\u001B[39m),\u001B[38;5;241m27\u001B[39m]:\n",
      "\u001B[1;31merror\u001B[0m: OpenCV(4.2.0) C:\\projects\\opencv-python\\opencv\\modules\\highgui\\src\\window.cpp:651: error: (-2:Unspecified error) The function is not implemented. Rebuild the library with Windows, GTK+ 2.x or Cocoa support. If you are on Ubuntu or Debian, install libgtk2.0-dev and pkg-config, then re-run cmake or configure script in function 'cvShowImage'\n"
     ]
    }
   ],
   "source": [
    "# 获得摄像头\n",
    "cap = cv2.VideoCapture(0)\n",
    "\n",
    "# 打开摄像头\n",
    "cap.open(0)\n",
    "while cap.isOpened():\n",
    "    success,frame = cap.read()\n",
    "    if not success:\n",
    "        print(\"Error\")\n",
    "        break\n",
    "    \n",
    "    frame = process_frame(frame)\n",
    "    frame = cv2.resize(frame, dsize=(1000, 600), dst=None, fx=2, fy=2, interpolation=cv2.INTER_NEAREST)\n",
    "    cv2.imshow('my_window',frame)\n",
    "\n",
    "     # 按‘q’或‘esc’退出\n",
    "    if cv2.waitKey(1) in [ord('q'),27]:\n",
    "        break\n",
    "\n",
    "# 关闭摄像头\n",
    "cap.release()\n",
    "\n",
    "# 关闭窗口\n",
    "cv2.destroyAllWindows()"
   ]
  },
  {
   "cell_type": "code",
   "execution_count": null,
   "outputs": [],
   "source": [],
   "metadata": {
    "collapsed": false
   }
  }
 ],
 "metadata": {
  "kernelspec": {
   "display_name": "Python 3 (ipykernel)",
   "language": "python",
   "name": "python3"
  },
  "language_info": {
   "codemirror_mode": {
    "name": "ipython",
    "version": 3
   },
   "file_extension": ".py",
   "mimetype": "text/x-python",
   "name": "python",
   "nbconvert_exporter": "python",
   "pygments_lexer": "ipython3",
   "version": "3.8.16"
  },
  "vscode": {
   "interpreter": {
    "hash": "fecea6e50ddc6ee70afed96ec4f07138b329af307f96b4713a57e17073b40d70"
   }
  }
 },
 "nbformat": 4,
 "nbformat_minor": 2
}
