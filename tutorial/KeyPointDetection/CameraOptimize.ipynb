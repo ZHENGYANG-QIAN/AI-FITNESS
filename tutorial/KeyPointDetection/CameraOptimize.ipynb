{
 "cells": [
  {
   "cell_type": "code",
   "execution_count": 2,
   "metadata": {},
   "outputs": [],
   "source": [
    "import time\n",
    "import cv2\n",
    "import mediapipe as mp"
   ]
  },
  {
   "cell_type": "code",
   "execution_count": 3,
   "metadata": {},
   "outputs": [],
   "source": [
    "mp_pose = mp.solutions.pose\n",
    "mp_drawing = mp.solutions.drawing_utils\n",
    "pose = mp_pose.Pose(static_image_mode=False,\n",
    "                    model_complexity=2,\n",
    "                    smooth_landmarks=True,\n",
    "                    enable_segmentation=True,\n",
    "                    min_detection_confidence=0.5,\n",
    "                    min_tracking_confidence=0.5)"
   ]
  },
  {
   "cell_type": "code",
   "execution_count": 4,
   "metadata": {},
   "outputs": [],
   "source": [
    "def process_frame(img):\n",
    "    # 记录该顿开始处理的时间\n",
    "    start_time = time.time()\n",
    "    # 获取图像宽高\n",
    "    h, w = img.shape[0], img.shape[1]\n",
    "    # BGR转RGB\n",
    "    img_RGB = cv2.cvtColor(img, cv2.COLOR_BGR2RGB)\n",
    "    # 将RGB图像输入模型获取预测结果\n",
    "    results = pose.process(img_RGB)\n",
    "    # 若检测出人体关键点来可视化关键点及骨架连线\n",
    "    if results.pose_landmarks:\n",
    "        mp_drawing.draw_landmarks(img, results.pose_landmarks, mp_pose.POSE_CONNECTIONS)\n",
    "        # 遍历所有33个关键点，可视化\n",
    "        for i in range(33):\n",
    "            #获取该关键点的三维坐标\n",
    "            cx = int(results.pose_landmarks.landmark[i].x * w)\n",
    "            cy = int(results.pose_landmarks.landmark[i].y * h)\n",
    "            cz = results.pose_landmarks.landmark[i].z\n",
    "            radius = 2\n",
    "            if i == 0:\n",
    "                img = cv2.circle(img, (cx, cy), radius, (0, 0, 255), -1)\n",
    "            elif i in [11, 12]:\n",
    "                img = cv2.circle(img, (cx, cy), radius, (223, 155, 6), -1)\n",
    "            elif i in [23, 24]:\n",
    "                img = cv2.circle(img, (cx, cy), radius, (1, 240, 255), -1)\n",
    "            elif i in [13, 14]:\n",
    "                img = cv2.circle(img, (cx, cy), radius, (140, 47, 240), -1)\n",
    "            elif i in [25, 26]:\n",
    "                img = cv2.circle(img, (cx, cy), radius, (0, 0, 255), -1)\n",
    "            elif i in [15, 16, 27, 28]:\n",
    "                img = cv2.circle(img, (cx, cy), radius, (223, 155, 60), -1)\n",
    "            elif i in [17, 19, 21]:\n",
    "                img = cv2.circle(img, (cx, cy), radius, (94, 218, 121), -1)\n",
    "            elif i in [18, 20, 22]:\n",
    "                img = cv2.circle(img, (cx, cy), radius, (16, 144, 247), -1)\n",
    "            elif i in [27, 29, 31]:\n",
    "                img = cv2.circle(img, (cx, cy), radius, (29, 123, 243), -1)\n",
    "            elif i in [28, 30, 32]:\n",
    "                imq = cv2.circle(img, (cx, cy), radius, (193, 182, 255), -1)\n",
    "            elif i in [9, 10]:\n",
    "                img = cv2.circle(img, (cx, cy), radius, (205, 235, 255), -1)\n",
    "            elif i in [1, 2, 3, 4, 5, 6, 7, 8]:\n",
    "                img = cv2.circle(img, (cx, cy), radius, (94, 218, 121), -1)\n",
    "            else:\n",
    "                img = cv2.circle(img, (cx, cy), radius, (0, 255, 0), -1)\n",
    "    else:\n",
    "        scaler = 1\n",
    "        failure_str = 'No Person'\n",
    "        img = cv2.putText(img, failure_str, (25 * scaler, 100 * scaler), cv2.FONT_HERSHEY_SIMPLEX, 1.25 * scaler,\n",
    "                          (255, 255, 255), 1)\n",
    "\n",
    "    end_time = time.time()\n",
    "    FPS = 1 / (end_time - start_time)\n",
    "    # 在图像上写FPS数值，参数依次为: 图片，添加的文字，左上角坐标，字体，字体大小，颜色，字体粗细\n",
    "    scaler = 1\n",
    "    img = cv2.putText(img, 'FPS' + str(int(FPS)), (25 * scaler, 50 * scaler), cv2.FONT_HERSHEY_SIMPLEX, 1.25 * scaler,\n",
    "                      (255, 255, 255), 1)\n",
    "    return img"
   ]
  },
  {
   "cell_type": "code",
   "execution_count": 5,
   "metadata": {},
   "outputs": [],
   "source": [
    "# 获得摄像头\n",
    "cap = cv2.VideoCapture(0)\n",
    "\n",
    "# 打开摄像头\n",
    "cap.open(0)\n",
    "while cap.isOpened():\n",
    "    success, frame = cap.read()\n",
    "    if not success:\n",
    "        print(\"Error\")\n",
    "        break\n",
    "\n",
    "    frame = process_frame(frame)\n",
    "    frame = cv2.resize(frame, dsize=(1000, 600), dst=None, fx=2, fy=2, interpolation=cv2.INTER_NEAREST)\n",
    "    cv2.imshow('my_window', frame)\n",
    "\n",
    "    #  按‘q’或‘esc’退出\n",
    "    if cv2.waitKey(1) in [ord('q'), 27]:\n",
    "        break\n",
    "\n",
    "# 关闭摄像头\n",
    "cap.release()\n",
    "\n",
    "# 关闭窗口\n",
    "cv2.destroyAllWindows()"
   ]
  },
  {
   "cell_type": "code",
   "execution_count": null,
   "outputs": [],
   "source": [],
   "metadata": {
    "collapsed": false
   }
  }
 ],
 "metadata": {
  "kernelspec": {
   "display_name": "Python 3 (ipykernel)",
   "language": "python",
   "name": "python3"
  },
  "language_info": {
   "codemirror_mode": {
    "name": "ipython",
    "version": 3
   },
   "file_extension": ".py",
   "mimetype": "text/x-python",
   "name": "python",
   "nbconvert_exporter": "python",
   "pygments_lexer": "ipython3",
   "version": "3.8.15"
  }
 },
 "nbformat": 4,
 "nbformat_minor": 1
}
