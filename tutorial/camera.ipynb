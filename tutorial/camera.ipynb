{
 "cells": [
  {
   "cell_type": "code",
   "execution_count": 1,
   "metadata": {
    "ExecuteTime": {
     "end_time": "2023-06-14T09:36:02.837352100Z",
     "start_time": "2023-06-14T09:36:02.096208800Z"
    }
   },
   "outputs": [],
   "source": [
    "import cv2\n",
    "import mediapipe as mp"
   ]
  },
  {
   "cell_type": "code",
   "execution_count": 2,
   "metadata": {
    "ExecuteTime": {
     "end_time": "2023-06-14T09:36:02.872954800Z",
     "start_time": "2023-06-14T09:36:02.837352100Z"
    }
   },
   "outputs": [],
   "source": [
    "mp_pose = mp.solutions.pose\n",
    "mp_drawing = mp.solutions.drawing_utils\n",
    "pose = mp_pose.Pose(static_image_mode=False,\n",
    "                    model_complexity=2,\n",
    "                    smooth_landmarks=True,\n",
    "                    enable_segmentation=True,\n",
    "                    min_detection_confidence=0.5,\n",
    "                    min_tracking_confidence=0.5)"
   ]
  },
  {
   "cell_type": "code",
   "execution_count": 3,
   "metadata": {
    "ExecuteTime": {
     "end_time": "2023-06-14T09:36:02.887093500Z",
     "start_time": "2023-06-14T09:36:02.872954800Z"
    }
   },
   "outputs": [],
   "source": [
    "def process_frame(img):\n",
    "    img_RGB = cv2.cvtColor(img,cv2.COLOR_BGR2RGB)\n",
    "    results = pose.process(img_RGB)\n",
    "    mp_drawing.draw_landmarks(img,results.pose_landmarks,mp_pose.POSE_CONNECTIONS)\n",
    "    # you can draw the image at 3D \n",
    "    # mp_drawing.plot_landmarks(results.pose_world_landmarks,mp_pose.POSE_CONNECTIONS)\n",
    "    return img"
   ]
  },
  {
   "cell_type": "code",
   "execution_count": 4,
   "metadata": {
    "ExecuteTime": {
     "end_time": "2023-06-14T09:36:07.511349500Z",
     "start_time": "2023-06-14T09:36:02.887093500Z"
    }
   },
   "outputs": [],
   "source": [
    "# get the camare\n",
    "cap = cv2.VideoCapture(0)\n",
    "\n",
    "# open cap\n",
    "cap.open(0)\n",
    "while cap.isOpened():\n",
    "    success,frame = cap.read()\n",
    "    if not success:\n",
    "        print(\"Error\")\n",
    "        break\n",
    "    \n",
    "    frame = process_frame(frame)\n",
    "    cv2.imshow('my_window',frame)\n",
    "    \n",
    "    if cv2.waitKey(1) in [ord('q'),27]: #  Exit if you press the q or esc, \n",
    "        break\n",
    "\n",
    "# turn off camare\n",
    "cap.release()\n",
    "\n",
    "# turn off window\n",
    "cv2.destroyAllWindows()"
   ]
  }
 ],
 "metadata": {
  "kernelspec": {
   "display_name": "Python 3.7.1 ('py3.7')",
   "language": "python",
   "name": "python3"
  },
  "language_info": {
   "name": "python",
   "version": "3.7.1"
  },
  "orig_nbformat": 4,
  "vscode": {
   "interpreter": {
    "hash": "fecea6e50ddc6ee70afed96ec4f07138b329af307f96b4713a57e17073b40d70"
   }
  }
 },
 "nbformat": 4,
 "nbformat_minor": 2
}
