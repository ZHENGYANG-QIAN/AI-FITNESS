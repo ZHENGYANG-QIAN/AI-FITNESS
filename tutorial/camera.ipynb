{
 "cells": [
  {
   "cell_type": "markdown",
   "source": [
    "# 导入工具包"
   ],
   "metadata": {
    "collapsed": false
   }
  },
  {
   "cell_type": "code",
   "execution_count": 13,
   "metadata": {
    "ExecuteTime": {
     "end_time": "2023-06-15T05:22:57.157639700Z",
     "start_time": "2023-06-15T05:22:57.124621800Z"
    }
   },
   "outputs": [],
   "source": [
    "# mediapipe人工智能工具包\n",
    "import mediapipe as mp\n",
    "# opencv-python\n",
    "import cv2"
   ]
  },
  {
   "cell_type": "markdown",
   "source": [
    "# 导入模型"
   ],
   "metadata": {
    "collapsed": false
   }
  },
  {
   "cell_type": "code",
   "execution_count": 14,
   "metadata": {
    "ExecuteTime": {
     "end_time": "2023-06-15T05:22:57.182926900Z",
     "start_time": "2023-06-15T05:22:57.144605400Z"
    }
   },
   "outputs": [],
   "source": [
    "# 导入solution\n",
    "mp_pose = mp.solutions.pose\n",
    "# 导入绘图函数\n",
    "mp_drawing = mp.solutions.drawing_utils\n",
    "# 导入模型\n",
    "pose = mp_pose.Pose(static_image_mode=False,  # 是静态图片还是连续视频帧\n",
    "                    model_complexity=2,  # 选择人体姿态关键点检测模型，0性能差但快，2性能好但慢，1介于两者之间\n",
    "                    smooth_landmarks=True,  # 是否平滑关键点\n",
    "                    enable_segmentation=True,  # 是否人体抠图\n",
    "                    min_detection_confidence=0.5,  # 置信度阈值\n",
    "                    min_tracking_confidence=0.5)  # 追踪阈值"
   ]
  },
  {
   "cell_type": "markdown",
   "source": [
    "# 处理单帧的函数"
   ],
   "metadata": {
    "collapsed": false
   }
  },
  {
   "cell_type": "code",
   "execution_count": 15,
   "metadata": {
    "ExecuteTime": {
     "end_time": "2023-06-15T05:22:57.196919200Z",
     "start_time": "2023-06-15T05:22:57.174929900Z"
    }
   },
   "outputs": [],
   "source": [
    "# 处理帧函数\n",
    "def process_frame(img):\n",
    "    img_RGB = cv2.cvtColor(img, cv2.COLOR_BGR2RGB)\n",
    "    # 将RGB图像输入模型，获取预测结果\n",
    "    results = pose.process(img_RGB)\n",
    "    # 可视化\n",
    "    mp_drawing.draw_landmarks(img, results.pose_landmarks, mp_pose.POSE_CONNECTIONS)\n",
    "    # you can draw the image at 3D \n",
    "    # mp_drawing.plot_landmarks(results.pose_world_landmarks,mp_pose.POSE_CONNECTIONS)\n",
    "    return img"
   ]
  },
  {
   "cell_type": "markdown",
   "source": [
    "# 调用摄像头获取每帧"
   ],
   "metadata": {
    "collapsed": false
   }
  },
  {
   "cell_type": "code",
   "execution_count": 16,
   "metadata": {
    "ExecuteTime": {
     "end_time": "2023-06-15T05:23:00.233422700Z",
     "start_time": "2023-06-15T05:22:57.196919200Z"
    }
   },
   "outputs": [],
   "source": [
    "# 调用摄像头，windows传入0，mac传入1\n",
    "cap = cv2.VideoCapture(0)\n",
    "\n",
    "# open cap\n",
    "cap.open(0)\n",
    "while cap.isOpened():\n",
    "    success, frame = cap.read()\n",
    "    if not success:\n",
    "        print(\"Error\")\n",
    "        break\n",
    "\n",
    "    frame = process_frame(frame)\n",
    "    cv2.imshow('my_window', frame)\n",
    "\n",
    "    if cv2.waitKey(1) in [ord('q'), 27]:  #  Exit if you press the q or esc,\n",
    "        break\n",
    "    if cv2.getWindowProperty('my_window', cv2.WND_PROP_VISIBLE) < 1:  # 点击窗口上的x时，退出\n",
    "        break\n",
    "\n",
    "# turn off camare\n",
    "cap.release()\n",
    "\n",
    "# turn off window\n",
    "cv2.destroyAllWindows()"
   ]
  }
 ],
 "metadata": {
  "kernelspec": {
   "display_name": "Python 3.7.1 ('py3.7')",
   "language": "python",
   "name": "python3"
  },
  "language_info": {
   "name": "python",
   "version": "3.7.1"
  },
  "orig_nbformat": 4,
  "vscode": {
   "interpreter": {
    "hash": "fecea6e50ddc6ee70afed96ec4f07138b329af307f96b4713a57e17073b40d70"
   }
  }
 },
 "nbformat": 4,
 "nbformat_minor": 2
}
