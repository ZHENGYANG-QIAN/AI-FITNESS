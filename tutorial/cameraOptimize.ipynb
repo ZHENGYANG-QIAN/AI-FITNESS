{
 "cells": [
  {
   "cell_type": "markdown",
   "source": [
    "# 导入工具包"
   ],
   "metadata": {
    "collapsed": false
   }
  },
  {
   "cell_type": "code",
   "execution_count": 11,
   "metadata": {
    "ExecuteTime": {
     "end_time": "2023-06-15T05:30:07.363702700Z",
     "start_time": "2023-06-15T05:30:07.311700600Z"
    }
   },
   "outputs": [],
   "source": [
    "# mediapipe人工智能工具包\n",
    "import mediapipe as mp\n",
    "# opencv-python\n",
    "import cv2\n",
    "# 时间库\n",
    "import time"
   ]
  },
  {
   "cell_type": "markdown",
   "source": [
    "# 导入模型"
   ],
   "metadata": {
    "collapsed": false
   }
  },
  {
   "cell_type": "code",
   "execution_count": 12,
   "metadata": {
    "ExecuteTime": {
     "end_time": "2023-06-15T05:30:07.388703400Z",
     "start_time": "2023-06-15T05:30:07.319348200Z"
    }
   },
   "outputs": [],
   "source": [
    "# 导入solution\n",
    "mp_pose = mp.solutions.pose\n",
    "# 导入绘图函数\n",
    "mp_drawing = mp.solutions.drawing_utils\n",
    "# 导入模型\n",
    "pose = mp_pose.Pose(static_image_mode=False,  # 是静态图片还是连续视频帧\n",
    "                    model_complexity=2,  # 选择人体姿态关键点检测模型，0性能差但快，2性能好但慢，1介于两者之间\n",
    "                    smooth_landmarks=True,  # 是否平滑关键点\n",
    "                    enable_segmentation=True,  # 是否人体抠图\n",
    "                    min_detection_confidence=0.5,  # 置信度阈值\n",
    "                    min_tracking_confidence=0.5)  # 追踪阈值"
   ]
  },
  {
   "cell_type": "markdown",
   "source": [
    "# 处理单帧的函数"
   ],
   "metadata": {
    "collapsed": false
   }
  },
  {
   "cell_type": "code",
   "execution_count": 13,
   "metadata": {
    "ExecuteTime": {
     "end_time": "2023-06-15T05:30:07.388703400Z",
     "start_time": "2023-06-15T05:30:07.361443600Z"
    }
   },
   "outputs": [],
   "source": [
    "def process_frame(img):\n",
    "    # 记录该帧开始处理的时间\n",
    "    start_time = time.time()\n",
    "    # 获取图像宽高\n",
    "    h, w = img.shape[0], img.shape[1]\n",
    "    # BGR转RGB\n",
    "    img_RGB = cv2.cvtColor(img, cv2.COLOR_BGR2RGB)\n",
    "    # 将RGB图像输入模型获取预测结果\n",
    "    results = pose.process(img_RGB)\n",
    "    # 若检测出人体关键点\n",
    "    if results.pose_landmarks:\n",
    "        # 可视化关键点及骨架连线\n",
    "        mp_drawing.draw_landmarks(img, results.pose_landmarks, mp_pose.POSE_CONNECTIONS)\n",
    "        for i in range(33):  # 遍历所有33个关键点，可视化\n",
    "            # 获取该关键点的三维坐标\n",
    "            cx = int(results.pose_landmarks.landmark[i].x * w)\n",
    "            cy = int(results.pose_landmarks.landmark[i].y * h)\n",
    "            cz = results.pose_landmarks.landmark[i].z\n",
    "\n",
    "            # 关节点处圆点半径\n",
    "            radius = 5\n",
    "\n",
    "            if i == 0:  # 鼻尖\n",
    "                img = cv2.circle(img, (cx, cy), radius, (0, 0, 255), -1)\n",
    "            elif i in [11, 12]:  # 肩膀\n",
    "                img = cv2.circle(img, (cx, cy), radius, (223, 155, 6), -1)\n",
    "            elif i in [23, 24]:  # 髋关节\n",
    "                img = cv2.circle(img, (cx, cy), radius, (1, 240, 255), -1)\n",
    "            elif i in [13, 14]:  #胳膊时\n",
    "                img = cv2.circle(img, (cx, cy), radius, (140, 47, 240), -1)\n",
    "            elif i in [25, 26]:  # 膝盖\n",
    "                img = cv2.circle(img, (cx, cy), radius, (0, 0, 255), -1)\n",
    "            elif i in [15, 16, 27, 28]:  # 手腕和脚踝\n",
    "                img = cv2.circle(img, (cx, cy), radius, (223, 155, 60), -1)\n",
    "            elif i in [17, 19, 21]:  #左手\n",
    "                img = cv2.circle(img, (cx, cy), radius, (94, 218, 121), -1)\n",
    "            elif i in [18, 20, 22]:  #右手\n",
    "                img = cv2.circle(img, (cx, cy), radius, (16, 144, 247), -1)\n",
    "            elif i in [27, 29, 31]:  #左脚\n",
    "                img = cv2.circle(img, (cx, cy), radius, (29, 123, 243), -1)\n",
    "            elif i in [28, 30, 32]:  #右脚\n",
    "                img = cv2.circle(img, (cx, cy), radius, (193, 182, 255), -1)\n",
    "            elif i in [9, 10]:  #嘴\n",
    "                img = cv2.circle(img, (cx, cy), radius, (205, 235, 255), -1)\n",
    "            elif i in [1, 2, 3, 4, 5, 6, 7, 8]:  # 眼睛和脸颊\n",
    "                img = cv2.circle(img, (cx, cy), radius, (94, 218, 121), -1)\n",
    "            else:  #其它关键点\n",
    "                img = cv2.circle(img, (cx, cy), radius, (0, 255, 0), -1)\n",
    "    else:  # 未检测到人\n",
    "        scaler = 1\n",
    "        failure_str = 'No Person'\n",
    "        img = cv2.putText(img, failure_str, (25 * scaler, 100 * scaler), cv2.FONT_HERSHEY_SIMPLEX, 1.25 * scaler,\n",
    "                          (255, 255, 255), 1)\n",
    "\n",
    "    # 记录该帧处理完毕的时间\n",
    "    end_time = time.time()\n",
    "    # 计算每秒处理图像帧数FPS\n",
    "    FPS = 1 / (end_time - start_time)\n",
    "    scaler = 1\n",
    "    # 在图像上写FPS数值，参数依次为: 图片，添加的文字，左上角坐标，字体，字体大小，颜色，字体粗细\n",
    "    img = cv2.putText(img, 'FPS' + str(int(FPS)), (25 * scaler, 50 * scaler), cv2.FONT_HERSHEY_SIMPLEX, 1.25 * scaler,\n",
    "                      (255, 255, 255), 1)\n",
    "    return img"
   ]
  },
  {
   "cell_type": "markdown",
   "source": [
    "# 调用摄像头处理每帧"
   ],
   "metadata": {
    "collapsed": false
   }
  },
  {
   "cell_type": "code",
   "execution_count": 14,
   "metadata": {
    "ExecuteTime": {
     "end_time": "2023-06-15T05:30:15.505714400Z",
     "start_time": "2023-06-15T05:30:07.383703500Z"
    }
   },
   "outputs": [],
   "source": [
    "# 调用摄像头，windows传入0，mac传入1\n",
    "cap = cv2.VideoCapture(0)\n",
    "\n",
    "# open cap\n",
    "cap.open(0)\n",
    "while cap.isOpened():\n",
    "    success, frame = cap.read()\n",
    "    if not success:\n",
    "        print(\"Error\")\n",
    "        break\n",
    "\n",
    "    frame = process_frame(frame)\n",
    "    # frame = cv2.resize(frame, dsize=(1000, 600), dst=None, fx=2, fy=2, interpolation=cv2.INTER_NEAREST)\n",
    "    cv2.imshow('my_window', frame)\n",
    "\n",
    "    if cv2.waitKey(1) in [ord('q'), 27]:  #  Exit if you press the q or esc,\n",
    "        break\n",
    "    if cv2.getWindowProperty('my_window', cv2.WND_PROP_VISIBLE) < 1:  # 点击窗口上的x时，退出\n",
    "        break\n",
    "\n",
    "# turn off camare\n",
    "cap.release()\n",
    "\n",
    "# turn off window\n",
    "cv2.destroyAllWindows()"
   ]
  }
 ],
 "metadata": {
  "kernelspec": {
   "display_name": "Python 3 (ipykernel)",
   "language": "python",
   "name": "python3"
  },
  "language_info": {
   "codemirror_mode": {
    "name": "ipython",
    "version": 3
   },
   "file_extension": ".py",
   "mimetype": "text/x-python",
   "name": "python",
   "nbconvert_exporter": "python",
   "pygments_lexer": "ipython3",
   "version": "3.8.15"
  }
 },
 "nbformat": 4,
 "nbformat_minor": 1
}
